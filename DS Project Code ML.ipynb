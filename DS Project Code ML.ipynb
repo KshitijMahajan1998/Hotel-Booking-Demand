{
 "cells": [
  {
   "cell_type": "markdown",
   "id": "executed-decimal",
   "metadata": {
    "papermill": {
     "duration": 0.067109,
     "end_time": "2021-06-16T15:45:17.944505",
     "exception": false,
     "start_time": "2021-06-16T15:45:17.877396",
     "status": "completed"
    },
    "tags": []
   },
   "source": [
    "# Hotel Booking Demand -EDA AND PREDICTION"
   ]
  },
  {
   "cell_type": "markdown",
   "id": "driving-xerox",
   "metadata": {
    "papermill": {
     "duration": 0.066061,
     "end_time": "2021-06-16T15:45:18.075672",
     "exception": false,
     "start_time": "2021-06-16T15:45:18.009611",
     "status": "completed"
    },
    "tags": []
   },
   "source": [
    "**Task : To predict the possibilty of a booking** "
   ]
  },
  {
   "cell_type": "markdown",
   "id": "passive-rachel",
   "metadata": {
    "papermill": {
     "duration": 0.067651,
     "end_time": "2021-06-16T15:45:18.341397",
     "exception": false,
     "start_time": "2021-06-16T15:45:18.273746",
     "status": "completed"
    },
    "tags": []
   },
   "source": [
    "# IMPORTING THE LIBRARIES"
   ]
  },
  {
   "cell_type": "code",
   "execution_count": 280,
   "id": "effective-flower",
   "metadata": {
    "execution": {
     "iopub.execute_input": "2021-06-16T15:45:18.615917Z",
     "iopub.status.busy": "2021-06-16T15:45:18.614530Z",
     "iopub.status.idle": "2021-06-16T15:45:19.542881Z",
     "shell.execute_reply": "2021-06-16T15:45:19.543446Z",
     "shell.execute_reply.started": "2021-06-16T15:42:00.315778Z"
    },
    "papermill": {
     "duration": 1.005442,
     "end_time": "2021-06-16T15:45:19.543774",
     "exception": false,
     "start_time": "2021-06-16T15:45:18.538332",
     "status": "completed"
    },
    "tags": []
   },
   "outputs": [],
   "source": [
    "# common libraries:\n",
    "import pandas as pd\n",
    "import matplotlib.pyplot as plt\n",
    "import seaborn as sns\n",
    "import numpy as np\n",
    "import plotly.express as px\n",
    "import folium\n",
    "\n",
    "# for ML:\n",
    "from sklearn.model_selection import train_test_split, KFold, cross_validate, cross_val_score\n",
    "from sklearn.pipeline import Pipeline\n",
    "from sklearn.compose import ColumnTransformer\n",
    "from sklearn.preprocessing import LabelEncoder, OneHotEncoder\n",
    "from sklearn.impute import SimpleImputer\n",
    "from sklearn.ensemble import RandomForestClassifier\n",
    "from xgboost import XGBClassifier\n",
    "from sklearn.linear_model import LogisticRegression\n",
    "from sklearn.tree import DecisionTreeClassifier\n",
    "from sklearn.metrics import accuracy_score\n",
    "import eli5 # Feature importance evaluation\n",
    "\n",
    "\n",
    "\n",
    "# load data:\n",
    "file_path = \"/Users/harshit297/Downloads/hotel_bookings.csv\"\n",
    "data = pd.read_csv(file_path)"
   ]
  },
  {
   "cell_type": "markdown",
   "id": "appointed-alcohol",
   "metadata": {
    "papermill": {
     "duration": 0.064576,
     "end_time": "2021-06-16T15:45:19.680308",
     "exception": false,
     "start_time": "2021-06-16T15:45:19.615732",
     "status": "completed"
    },
    "tags": []
   },
   "source": [
    "# LOADING THE DATASET"
   ]
  },
  {
   "cell_type": "code",
   "execution_count": 281,
   "id": "dramatic-zealand",
   "metadata": {
    "execution": {
     "iopub.execute_input": "2021-06-16T15:45:20.581738Z",
     "iopub.status.busy": "2021-06-16T15:45:20.581047Z",
     "iopub.status.idle": "2021-06-16T15:45:20.625745Z",
     "shell.execute_reply": "2021-06-16T15:45:20.626260Z",
     "shell.execute_reply.started": "2021-06-16T15:42:00.738466Z"
    },
    "papermill": {
     "duration": 0.112245,
     "end_time": "2021-06-16T15:45:20.626445",
     "exception": false,
     "start_time": "2021-06-16T15:45:20.514200",
     "status": "completed"
    },
    "tags": []
   },
   "outputs": [
    {
     "data": {
      "text/html": [
       "<div>\n",
       "<style scoped>\n",
       "    .dataframe tbody tr th:only-of-type {\n",
       "        vertical-align: middle;\n",
       "    }\n",
       "\n",
       "    .dataframe tbody tr th {\n",
       "        vertical-align: top;\n",
       "    }\n",
       "\n",
       "    .dataframe thead th {\n",
       "        text-align: right;\n",
       "    }\n",
       "</style>\n",
       "<table border=\"1\" class=\"dataframe\">\n",
       "  <thead>\n",
       "    <tr style=\"text-align: right;\">\n",
       "      <th></th>\n",
       "      <th>hotel</th>\n",
       "      <th>is_canceled</th>\n",
       "      <th>lead_time</th>\n",
       "      <th>arrival_date_year</th>\n",
       "      <th>arrival_date_month</th>\n",
       "      <th>arrival_date_week_number</th>\n",
       "      <th>arrival_date_day_of_month</th>\n",
       "      <th>stays_in_weekend_nights</th>\n",
       "      <th>stays_in_week_nights</th>\n",
       "      <th>adults</th>\n",
       "      <th>...</th>\n",
       "      <th>deposit_type</th>\n",
       "      <th>agent</th>\n",
       "      <th>company</th>\n",
       "      <th>days_in_waiting_list</th>\n",
       "      <th>customer_type</th>\n",
       "      <th>adr</th>\n",
       "      <th>required_car_parking_spaces</th>\n",
       "      <th>total_of_special_requests</th>\n",
       "      <th>reservation_status</th>\n",
       "      <th>reservation_status_date</th>\n",
       "    </tr>\n",
       "  </thead>\n",
       "  <tbody>\n",
       "    <tr>\n",
       "      <th>8</th>\n",
       "      <td>Resort Hotel</td>\n",
       "      <td>1</td>\n",
       "      <td>85</td>\n",
       "      <td>2015</td>\n",
       "      <td>July</td>\n",
       "      <td>27</td>\n",
       "      <td>1</td>\n",
       "      <td>0</td>\n",
       "      <td>3</td>\n",
       "      <td>2</td>\n",
       "      <td>...</td>\n",
       "      <td>No Deposit</td>\n",
       "      <td>240.0</td>\n",
       "      <td>NaN</td>\n",
       "      <td>0</td>\n",
       "      <td>Transient</td>\n",
       "      <td>82.00</td>\n",
       "      <td>0</td>\n",
       "      <td>1</td>\n",
       "      <td>Canceled</td>\n",
       "      <td>2015-05-06</td>\n",
       "    </tr>\n",
       "    <tr>\n",
       "      <th>9</th>\n",
       "      <td>Resort Hotel</td>\n",
       "      <td>1</td>\n",
       "      <td>75</td>\n",
       "      <td>2015</td>\n",
       "      <td>July</td>\n",
       "      <td>27</td>\n",
       "      <td>1</td>\n",
       "      <td>0</td>\n",
       "      <td>3</td>\n",
       "      <td>2</td>\n",
       "      <td>...</td>\n",
       "      <td>No Deposit</td>\n",
       "      <td>15.0</td>\n",
       "      <td>NaN</td>\n",
       "      <td>0</td>\n",
       "      <td>Transient</td>\n",
       "      <td>105.50</td>\n",
       "      <td>0</td>\n",
       "      <td>0</td>\n",
       "      <td>Canceled</td>\n",
       "      <td>2015-04-22</td>\n",
       "    </tr>\n",
       "    <tr>\n",
       "      <th>10</th>\n",
       "      <td>Resort Hotel</td>\n",
       "      <td>1</td>\n",
       "      <td>23</td>\n",
       "      <td>2015</td>\n",
       "      <td>July</td>\n",
       "      <td>27</td>\n",
       "      <td>1</td>\n",
       "      <td>0</td>\n",
       "      <td>4</td>\n",
       "      <td>2</td>\n",
       "      <td>...</td>\n",
       "      <td>No Deposit</td>\n",
       "      <td>240.0</td>\n",
       "      <td>NaN</td>\n",
       "      <td>0</td>\n",
       "      <td>Transient</td>\n",
       "      <td>123.00</td>\n",
       "      <td>0</td>\n",
       "      <td>0</td>\n",
       "      <td>Canceled</td>\n",
       "      <td>2015-06-23</td>\n",
       "    </tr>\n",
       "    <tr>\n",
       "      <th>27</th>\n",
       "      <td>Resort Hotel</td>\n",
       "      <td>1</td>\n",
       "      <td>60</td>\n",
       "      <td>2015</td>\n",
       "      <td>July</td>\n",
       "      <td>27</td>\n",
       "      <td>1</td>\n",
       "      <td>2</td>\n",
       "      <td>5</td>\n",
       "      <td>2</td>\n",
       "      <td>...</td>\n",
       "      <td>No Deposit</td>\n",
       "      <td>240.0</td>\n",
       "      <td>NaN</td>\n",
       "      <td>0</td>\n",
       "      <td>Transient</td>\n",
       "      <td>107.00</td>\n",
       "      <td>0</td>\n",
       "      <td>2</td>\n",
       "      <td>Canceled</td>\n",
       "      <td>2015-05-11</td>\n",
       "    </tr>\n",
       "    <tr>\n",
       "      <th>32</th>\n",
       "      <td>Resort Hotel</td>\n",
       "      <td>1</td>\n",
       "      <td>96</td>\n",
       "      <td>2015</td>\n",
       "      <td>July</td>\n",
       "      <td>27</td>\n",
       "      <td>1</td>\n",
       "      <td>2</td>\n",
       "      <td>8</td>\n",
       "      <td>2</td>\n",
       "      <td>...</td>\n",
       "      <td>No Deposit</td>\n",
       "      <td>NaN</td>\n",
       "      <td>NaN</td>\n",
       "      <td>0</td>\n",
       "      <td>Transient</td>\n",
       "      <td>108.30</td>\n",
       "      <td>0</td>\n",
       "      <td>2</td>\n",
       "      <td>Canceled</td>\n",
       "      <td>2015-05-29</td>\n",
       "    </tr>\n",
       "    <tr>\n",
       "      <th>...</th>\n",
       "      <td>...</td>\n",
       "      <td>...</td>\n",
       "      <td>...</td>\n",
       "      <td>...</td>\n",
       "      <td>...</td>\n",
       "      <td>...</td>\n",
       "      <td>...</td>\n",
       "      <td>...</td>\n",
       "      <td>...</td>\n",
       "      <td>...</td>\n",
       "      <td>...</td>\n",
       "      <td>...</td>\n",
       "      <td>...</td>\n",
       "      <td>...</td>\n",
       "      <td>...</td>\n",
       "      <td>...</td>\n",
       "      <td>...</td>\n",
       "      <td>...</td>\n",
       "      <td>...</td>\n",
       "      <td>...</td>\n",
       "      <td>...</td>\n",
       "    </tr>\n",
       "    <tr>\n",
       "      <th>455</th>\n",
       "      <td>Resort Hotel</td>\n",
       "      <td>1</td>\n",
       "      <td>35</td>\n",
       "      <td>2015</td>\n",
       "      <td>July</td>\n",
       "      <td>29</td>\n",
       "      <td>16</td>\n",
       "      <td>2</td>\n",
       "      <td>4</td>\n",
       "      <td>2</td>\n",
       "      <td>...</td>\n",
       "      <td>No Deposit</td>\n",
       "      <td>240.0</td>\n",
       "      <td>NaN</td>\n",
       "      <td>0</td>\n",
       "      <td>Transient</td>\n",
       "      <td>135.00</td>\n",
       "      <td>0</td>\n",
       "      <td>0</td>\n",
       "      <td>Canceled</td>\n",
       "      <td>2015-06-11</td>\n",
       "    </tr>\n",
       "    <tr>\n",
       "      <th>464</th>\n",
       "      <td>Resort Hotel</td>\n",
       "      <td>1</td>\n",
       "      <td>15</td>\n",
       "      <td>2015</td>\n",
       "      <td>July</td>\n",
       "      <td>29</td>\n",
       "      <td>17</td>\n",
       "      <td>0</td>\n",
       "      <td>2</td>\n",
       "      <td>2</td>\n",
       "      <td>...</td>\n",
       "      <td>No Deposit</td>\n",
       "      <td>240.0</td>\n",
       "      <td>NaN</td>\n",
       "      <td>0</td>\n",
       "      <td>Transient</td>\n",
       "      <td>134.00</td>\n",
       "      <td>0</td>\n",
       "      <td>1</td>\n",
       "      <td>Canceled</td>\n",
       "      <td>2015-07-06</td>\n",
       "    </tr>\n",
       "    <tr>\n",
       "      <th>465</th>\n",
       "      <td>Resort Hotel</td>\n",
       "      <td>1</td>\n",
       "      <td>7</td>\n",
       "      <td>2015</td>\n",
       "      <td>July</td>\n",
       "      <td>29</td>\n",
       "      <td>17</td>\n",
       "      <td>0</td>\n",
       "      <td>2</td>\n",
       "      <td>2</td>\n",
       "      <td>...</td>\n",
       "      <td>No Deposit</td>\n",
       "      <td>NaN</td>\n",
       "      <td>NaN</td>\n",
       "      <td>0</td>\n",
       "      <td>Transient</td>\n",
       "      <td>127.25</td>\n",
       "      <td>0</td>\n",
       "      <td>1</td>\n",
       "      <td>Canceled</td>\n",
       "      <td>2015-07-13</td>\n",
       "    </tr>\n",
       "    <tr>\n",
       "      <th>467</th>\n",
       "      <td>Resort Hotel</td>\n",
       "      <td>1</td>\n",
       "      <td>6</td>\n",
       "      <td>2015</td>\n",
       "      <td>July</td>\n",
       "      <td>29</td>\n",
       "      <td>17</td>\n",
       "      <td>0</td>\n",
       "      <td>2</td>\n",
       "      <td>2</td>\n",
       "      <td>...</td>\n",
       "      <td>No Deposit</td>\n",
       "      <td>241.0</td>\n",
       "      <td>NaN</td>\n",
       "      <td>0</td>\n",
       "      <td>Transient</td>\n",
       "      <td>110.50</td>\n",
       "      <td>0</td>\n",
       "      <td>1</td>\n",
       "      <td>No-Show</td>\n",
       "      <td>2015-07-17</td>\n",
       "    </tr>\n",
       "    <tr>\n",
       "      <th>472</th>\n",
       "      <td>Resort Hotel</td>\n",
       "      <td>1</td>\n",
       "      <td>3</td>\n",
       "      <td>2015</td>\n",
       "      <td>July</td>\n",
       "      <td>29</td>\n",
       "      <td>17</td>\n",
       "      <td>0</td>\n",
       "      <td>2</td>\n",
       "      <td>1</td>\n",
       "      <td>...</td>\n",
       "      <td>No Deposit</td>\n",
       "      <td>5.0</td>\n",
       "      <td>NaN</td>\n",
       "      <td>0</td>\n",
       "      <td>Transient</td>\n",
       "      <td>107.60</td>\n",
       "      <td>0</td>\n",
       "      <td>0</td>\n",
       "      <td>No-Show</td>\n",
       "      <td>2015-07-17</td>\n",
       "    </tr>\n",
       "  </tbody>\n",
       "</table>\n",
       "<p>100 rows × 32 columns</p>\n",
       "</div>"
      ],
      "text/plain": [
       "            hotel  is_canceled  lead_time  arrival_date_year  \\\n",
       "8    Resort Hotel            1         85               2015   \n",
       "9    Resort Hotel            1         75               2015   \n",
       "10   Resort Hotel            1         23               2015   \n",
       "27   Resort Hotel            1         60               2015   \n",
       "32   Resort Hotel            1         96               2015   \n",
       "..            ...          ...        ...                ...   \n",
       "455  Resort Hotel            1         35               2015   \n",
       "464  Resort Hotel            1         15               2015   \n",
       "465  Resort Hotel            1          7               2015   \n",
       "467  Resort Hotel            1          6               2015   \n",
       "472  Resort Hotel            1          3               2015   \n",
       "\n",
       "    arrival_date_month  arrival_date_week_number  arrival_date_day_of_month  \\\n",
       "8                 July                        27                          1   \n",
       "9                 July                        27                          1   \n",
       "10                July                        27                          1   \n",
       "27                July                        27                          1   \n",
       "32                July                        27                          1   \n",
       "..                 ...                       ...                        ...   \n",
       "455               July                        29                         16   \n",
       "464               July                        29                         17   \n",
       "465               July                        29                         17   \n",
       "467               July                        29                         17   \n",
       "472               July                        29                         17   \n",
       "\n",
       "     stays_in_weekend_nights  stays_in_week_nights  adults  ...  deposit_type  \\\n",
       "8                          0                     3       2  ...    No Deposit   \n",
       "9                          0                     3       2  ...    No Deposit   \n",
       "10                         0                     4       2  ...    No Deposit   \n",
       "27                         2                     5       2  ...    No Deposit   \n",
       "32                         2                     8       2  ...    No Deposit   \n",
       "..                       ...                   ...     ...  ...           ...   \n",
       "455                        2                     4       2  ...    No Deposit   \n",
       "464                        0                     2       2  ...    No Deposit   \n",
       "465                        0                     2       2  ...    No Deposit   \n",
       "467                        0                     2       2  ...    No Deposit   \n",
       "472                        0                     2       1  ...    No Deposit   \n",
       "\n",
       "     agent company days_in_waiting_list customer_type     adr  \\\n",
       "8    240.0     NaN                    0     Transient   82.00   \n",
       "9     15.0     NaN                    0     Transient  105.50   \n",
       "10   240.0     NaN                    0     Transient  123.00   \n",
       "27   240.0     NaN                    0     Transient  107.00   \n",
       "32     NaN     NaN                    0     Transient  108.30   \n",
       "..     ...     ...                  ...           ...     ...   \n",
       "455  240.0     NaN                    0     Transient  135.00   \n",
       "464  240.0     NaN                    0     Transient  134.00   \n",
       "465    NaN     NaN                    0     Transient  127.25   \n",
       "467  241.0     NaN                    0     Transient  110.50   \n",
       "472    5.0     NaN                    0     Transient  107.60   \n",
       "\n",
       "     required_car_parking_spaces  total_of_special_requests  \\\n",
       "8                              0                          1   \n",
       "9                              0                          0   \n",
       "10                             0                          0   \n",
       "27                             0                          2   \n",
       "32                             0                          2   \n",
       "..                           ...                        ...   \n",
       "455                            0                          0   \n",
       "464                            0                          1   \n",
       "465                            0                          1   \n",
       "467                            0                          1   \n",
       "472                            0                          0   \n",
       "\n",
       "     reservation_status reservation_status_date  \n",
       "8              Canceled              2015-05-06  \n",
       "9              Canceled              2015-04-22  \n",
       "10             Canceled              2015-06-23  \n",
       "27             Canceled              2015-05-11  \n",
       "32             Canceled              2015-05-29  \n",
       "..                  ...                     ...  \n",
       "455            Canceled              2015-06-11  \n",
       "464            Canceled              2015-07-06  \n",
       "465            Canceled              2015-07-13  \n",
       "467             No-Show              2015-07-17  \n",
       "472             No-Show              2015-07-17  \n",
       "\n",
       "[100 rows x 32 columns]"
      ]
     },
     "execution_count": 281,
     "metadata": {},
     "output_type": "execute_result"
    }
   ],
   "source": [
    "data[data['is_canceled']==1].head(100)"
   ]
  },
  {
   "cell_type": "code",
   "execution_count": 282,
   "id": "equivalent-brazil",
   "metadata": {
    "execution": {
     "iopub.execute_input": "2021-06-16T15:45:20.762729Z",
     "iopub.status.busy": "2021-06-16T15:45:20.762078Z",
     "iopub.status.idle": "2021-06-16T15:45:20.920399Z",
     "shell.execute_reply": "2021-06-16T15:45:20.920919Z",
     "shell.execute_reply.started": "2021-06-16T15:42:00.766818Z"
    },
    "papermill": {
     "duration": 0.226785,
     "end_time": "2021-06-16T15:45:20.921129",
     "exception": false,
     "start_time": "2021-06-16T15:45:20.694344",
     "status": "completed"
    },
    "tags": []
   },
   "outputs": [
    {
     "data": {
      "text/html": [
       "<div>\n",
       "<style scoped>\n",
       "    .dataframe tbody tr th:only-of-type {\n",
       "        vertical-align: middle;\n",
       "    }\n",
       "\n",
       "    .dataframe tbody tr th {\n",
       "        vertical-align: top;\n",
       "    }\n",
       "\n",
       "    .dataframe thead th {\n",
       "        text-align: right;\n",
       "    }\n",
       "</style>\n",
       "<table border=\"1\" class=\"dataframe\">\n",
       "  <thead>\n",
       "    <tr style=\"text-align: right;\">\n",
       "      <th></th>\n",
       "      <th>is_canceled</th>\n",
       "      <th>lead_time</th>\n",
       "      <th>arrival_date_year</th>\n",
       "      <th>arrival_date_week_number</th>\n",
       "      <th>arrival_date_day_of_month</th>\n",
       "      <th>stays_in_weekend_nights</th>\n",
       "      <th>stays_in_week_nights</th>\n",
       "      <th>adults</th>\n",
       "      <th>children</th>\n",
       "      <th>babies</th>\n",
       "      <th>is_repeated_guest</th>\n",
       "      <th>previous_cancellations</th>\n",
       "      <th>previous_bookings_not_canceled</th>\n",
       "      <th>booking_changes</th>\n",
       "      <th>agent</th>\n",
       "      <th>company</th>\n",
       "      <th>days_in_waiting_list</th>\n",
       "      <th>adr</th>\n",
       "      <th>required_car_parking_spaces</th>\n",
       "      <th>total_of_special_requests</th>\n",
       "    </tr>\n",
       "  </thead>\n",
       "  <tbody>\n",
       "    <tr>\n",
       "      <th>count</th>\n",
       "      <td>119390.000000</td>\n",
       "      <td>119390.000000</td>\n",
       "      <td>119390.000000</td>\n",
       "      <td>119390.000000</td>\n",
       "      <td>119390.000000</td>\n",
       "      <td>119390.000000</td>\n",
       "      <td>119390.000000</td>\n",
       "      <td>119390.000000</td>\n",
       "      <td>119386.000000</td>\n",
       "      <td>119390.000000</td>\n",
       "      <td>119390.000000</td>\n",
       "      <td>119390.000000</td>\n",
       "      <td>119390.000000</td>\n",
       "      <td>119390.000000</td>\n",
       "      <td>103050.000000</td>\n",
       "      <td>6797.000000</td>\n",
       "      <td>119390.000000</td>\n",
       "      <td>119390.000000</td>\n",
       "      <td>119390.000000</td>\n",
       "      <td>119390.000000</td>\n",
       "    </tr>\n",
       "    <tr>\n",
       "      <th>mean</th>\n",
       "      <td>0.370416</td>\n",
       "      <td>104.011416</td>\n",
       "      <td>2016.156554</td>\n",
       "      <td>27.165173</td>\n",
       "      <td>15.798241</td>\n",
       "      <td>0.927599</td>\n",
       "      <td>2.500302</td>\n",
       "      <td>1.856403</td>\n",
       "      <td>0.103890</td>\n",
       "      <td>0.007949</td>\n",
       "      <td>0.031912</td>\n",
       "      <td>0.087118</td>\n",
       "      <td>0.137097</td>\n",
       "      <td>0.221124</td>\n",
       "      <td>86.693382</td>\n",
       "      <td>189.266735</td>\n",
       "      <td>2.321149</td>\n",
       "      <td>101.831122</td>\n",
       "      <td>0.062518</td>\n",
       "      <td>0.571363</td>\n",
       "    </tr>\n",
       "    <tr>\n",
       "      <th>std</th>\n",
       "      <td>0.482918</td>\n",
       "      <td>106.863097</td>\n",
       "      <td>0.707476</td>\n",
       "      <td>13.605138</td>\n",
       "      <td>8.780829</td>\n",
       "      <td>0.998613</td>\n",
       "      <td>1.908286</td>\n",
       "      <td>0.579261</td>\n",
       "      <td>0.398561</td>\n",
       "      <td>0.097436</td>\n",
       "      <td>0.175767</td>\n",
       "      <td>0.844336</td>\n",
       "      <td>1.497437</td>\n",
       "      <td>0.652306</td>\n",
       "      <td>110.774548</td>\n",
       "      <td>131.655015</td>\n",
       "      <td>17.594721</td>\n",
       "      <td>50.535790</td>\n",
       "      <td>0.245291</td>\n",
       "      <td>0.792798</td>\n",
       "    </tr>\n",
       "    <tr>\n",
       "      <th>min</th>\n",
       "      <td>0.000000</td>\n",
       "      <td>0.000000</td>\n",
       "      <td>2015.000000</td>\n",
       "      <td>1.000000</td>\n",
       "      <td>1.000000</td>\n",
       "      <td>0.000000</td>\n",
       "      <td>0.000000</td>\n",
       "      <td>0.000000</td>\n",
       "      <td>0.000000</td>\n",
       "      <td>0.000000</td>\n",
       "      <td>0.000000</td>\n",
       "      <td>0.000000</td>\n",
       "      <td>0.000000</td>\n",
       "      <td>0.000000</td>\n",
       "      <td>1.000000</td>\n",
       "      <td>6.000000</td>\n",
       "      <td>0.000000</td>\n",
       "      <td>-6.380000</td>\n",
       "      <td>0.000000</td>\n",
       "      <td>0.000000</td>\n",
       "    </tr>\n",
       "    <tr>\n",
       "      <th>25%</th>\n",
       "      <td>0.000000</td>\n",
       "      <td>18.000000</td>\n",
       "      <td>2016.000000</td>\n",
       "      <td>16.000000</td>\n",
       "      <td>8.000000</td>\n",
       "      <td>0.000000</td>\n",
       "      <td>1.000000</td>\n",
       "      <td>2.000000</td>\n",
       "      <td>0.000000</td>\n",
       "      <td>0.000000</td>\n",
       "      <td>0.000000</td>\n",
       "      <td>0.000000</td>\n",
       "      <td>0.000000</td>\n",
       "      <td>0.000000</td>\n",
       "      <td>9.000000</td>\n",
       "      <td>62.000000</td>\n",
       "      <td>0.000000</td>\n",
       "      <td>69.290000</td>\n",
       "      <td>0.000000</td>\n",
       "      <td>0.000000</td>\n",
       "    </tr>\n",
       "    <tr>\n",
       "      <th>50%</th>\n",
       "      <td>0.000000</td>\n",
       "      <td>69.000000</td>\n",
       "      <td>2016.000000</td>\n",
       "      <td>28.000000</td>\n",
       "      <td>16.000000</td>\n",
       "      <td>1.000000</td>\n",
       "      <td>2.000000</td>\n",
       "      <td>2.000000</td>\n",
       "      <td>0.000000</td>\n",
       "      <td>0.000000</td>\n",
       "      <td>0.000000</td>\n",
       "      <td>0.000000</td>\n",
       "      <td>0.000000</td>\n",
       "      <td>0.000000</td>\n",
       "      <td>14.000000</td>\n",
       "      <td>179.000000</td>\n",
       "      <td>0.000000</td>\n",
       "      <td>94.575000</td>\n",
       "      <td>0.000000</td>\n",
       "      <td>0.000000</td>\n",
       "    </tr>\n",
       "    <tr>\n",
       "      <th>75%</th>\n",
       "      <td>1.000000</td>\n",
       "      <td>160.000000</td>\n",
       "      <td>2017.000000</td>\n",
       "      <td>38.000000</td>\n",
       "      <td>23.000000</td>\n",
       "      <td>2.000000</td>\n",
       "      <td>3.000000</td>\n",
       "      <td>2.000000</td>\n",
       "      <td>0.000000</td>\n",
       "      <td>0.000000</td>\n",
       "      <td>0.000000</td>\n",
       "      <td>0.000000</td>\n",
       "      <td>0.000000</td>\n",
       "      <td>0.000000</td>\n",
       "      <td>229.000000</td>\n",
       "      <td>270.000000</td>\n",
       "      <td>0.000000</td>\n",
       "      <td>126.000000</td>\n",
       "      <td>0.000000</td>\n",
       "      <td>1.000000</td>\n",
       "    </tr>\n",
       "    <tr>\n",
       "      <th>max</th>\n",
       "      <td>1.000000</td>\n",
       "      <td>737.000000</td>\n",
       "      <td>2017.000000</td>\n",
       "      <td>53.000000</td>\n",
       "      <td>31.000000</td>\n",
       "      <td>19.000000</td>\n",
       "      <td>50.000000</td>\n",
       "      <td>55.000000</td>\n",
       "      <td>10.000000</td>\n",
       "      <td>10.000000</td>\n",
       "      <td>1.000000</td>\n",
       "      <td>26.000000</td>\n",
       "      <td>72.000000</td>\n",
       "      <td>21.000000</td>\n",
       "      <td>535.000000</td>\n",
       "      <td>543.000000</td>\n",
       "      <td>391.000000</td>\n",
       "      <td>5400.000000</td>\n",
       "      <td>8.000000</td>\n",
       "      <td>5.000000</td>\n",
       "    </tr>\n",
       "  </tbody>\n",
       "</table>\n",
       "</div>"
      ],
      "text/plain": [
       "         is_canceled      lead_time  arrival_date_year  \\\n",
       "count  119390.000000  119390.000000      119390.000000   \n",
       "mean        0.370416     104.011416        2016.156554   \n",
       "std         0.482918     106.863097           0.707476   \n",
       "min         0.000000       0.000000        2015.000000   \n",
       "25%         0.000000      18.000000        2016.000000   \n",
       "50%         0.000000      69.000000        2016.000000   \n",
       "75%         1.000000     160.000000        2017.000000   \n",
       "max         1.000000     737.000000        2017.000000   \n",
       "\n",
       "       arrival_date_week_number  arrival_date_day_of_month  \\\n",
       "count             119390.000000              119390.000000   \n",
       "mean                  27.165173                  15.798241   \n",
       "std                   13.605138                   8.780829   \n",
       "min                    1.000000                   1.000000   \n",
       "25%                   16.000000                   8.000000   \n",
       "50%                   28.000000                  16.000000   \n",
       "75%                   38.000000                  23.000000   \n",
       "max                   53.000000                  31.000000   \n",
       "\n",
       "       stays_in_weekend_nights  stays_in_week_nights         adults  \\\n",
       "count            119390.000000         119390.000000  119390.000000   \n",
       "mean                  0.927599              2.500302       1.856403   \n",
       "std                   0.998613              1.908286       0.579261   \n",
       "min                   0.000000              0.000000       0.000000   \n",
       "25%                   0.000000              1.000000       2.000000   \n",
       "50%                   1.000000              2.000000       2.000000   \n",
       "75%                   2.000000              3.000000       2.000000   \n",
       "max                  19.000000             50.000000      55.000000   \n",
       "\n",
       "            children         babies  is_repeated_guest  \\\n",
       "count  119386.000000  119390.000000      119390.000000   \n",
       "mean        0.103890       0.007949           0.031912   \n",
       "std         0.398561       0.097436           0.175767   \n",
       "min         0.000000       0.000000           0.000000   \n",
       "25%         0.000000       0.000000           0.000000   \n",
       "50%         0.000000       0.000000           0.000000   \n",
       "75%         0.000000       0.000000           0.000000   \n",
       "max        10.000000      10.000000           1.000000   \n",
       "\n",
       "       previous_cancellations  previous_bookings_not_canceled  \\\n",
       "count           119390.000000                   119390.000000   \n",
       "mean                 0.087118                        0.137097   \n",
       "std                  0.844336                        1.497437   \n",
       "min                  0.000000                        0.000000   \n",
       "25%                  0.000000                        0.000000   \n",
       "50%                  0.000000                        0.000000   \n",
       "75%                  0.000000                        0.000000   \n",
       "max                 26.000000                       72.000000   \n",
       "\n",
       "       booking_changes          agent      company  days_in_waiting_list  \\\n",
       "count    119390.000000  103050.000000  6797.000000         119390.000000   \n",
       "mean          0.221124      86.693382   189.266735              2.321149   \n",
       "std           0.652306     110.774548   131.655015             17.594721   \n",
       "min           0.000000       1.000000     6.000000              0.000000   \n",
       "25%           0.000000       9.000000    62.000000              0.000000   \n",
       "50%           0.000000      14.000000   179.000000              0.000000   \n",
       "75%           0.000000     229.000000   270.000000              0.000000   \n",
       "max          21.000000     535.000000   543.000000            391.000000   \n",
       "\n",
       "                 adr  required_car_parking_spaces  total_of_special_requests  \n",
       "count  119390.000000                119390.000000              119390.000000  \n",
       "mean      101.831122                     0.062518                   0.571363  \n",
       "std        50.535790                     0.245291                   0.792798  \n",
       "min        -6.380000                     0.000000                   0.000000  \n",
       "25%        69.290000                     0.000000                   0.000000  \n",
       "50%        94.575000                     0.000000                   0.000000  \n",
       "75%       126.000000                     0.000000                   1.000000  \n",
       "max      5400.000000                     8.000000                   5.000000  "
      ]
     },
     "execution_count": 282,
     "metadata": {},
     "output_type": "execute_result"
    }
   ],
   "source": [
    "data.describe()      #description of dataset "
   ]
  },
  {
   "cell_type": "code",
   "execution_count": 283,
   "id": "unauthorized-monthly",
   "metadata": {
    "execution": {
     "iopub.execute_input": "2021-06-16T15:45:21.081843Z",
     "iopub.status.busy": "2021-06-16T15:45:21.081035Z",
     "iopub.status.idle": "2021-06-16T15:45:21.231933Z",
     "shell.execute_reply": "2021-06-16T15:45:21.231304Z",
     "shell.execute_reply.started": "2021-06-16T15:42:00.908361Z"
    },
    "papermill": {
     "duration": 0.230177,
     "end_time": "2021-06-16T15:45:21.232071",
     "exception": false,
     "start_time": "2021-06-16T15:45:21.001894",
     "status": "completed"
    },
    "tags": []
   },
   "outputs": [
    {
     "data": {
      "text/plain": [
       "hotel                                  0\n",
       "is_canceled                            0\n",
       "lead_time                              0\n",
       "arrival_date_year                      0\n",
       "arrival_date_month                     0\n",
       "arrival_date_week_number               0\n",
       "arrival_date_day_of_month              0\n",
       "stays_in_weekend_nights                0\n",
       "stays_in_week_nights                   0\n",
       "adults                                 0\n",
       "children                               4\n",
       "babies                                 0\n",
       "meal                                   0\n",
       "country                              488\n",
       "market_segment                         0\n",
       "distribution_channel                   0\n",
       "is_repeated_guest                      0\n",
       "previous_cancellations                 0\n",
       "previous_bookings_not_canceled         0\n",
       "reserved_room_type                     0\n",
       "assigned_room_type                     0\n",
       "booking_changes                        0\n",
       "deposit_type                           0\n",
       "agent                              16340\n",
       "company                           112593\n",
       "days_in_waiting_list                   0\n",
       "customer_type                          0\n",
       "adr                                    0\n",
       "required_car_parking_spaces            0\n",
       "total_of_special_requests              0\n",
       "reservation_status                     0\n",
       "reservation_status_date                0\n",
       "dtype: int64"
      ]
     },
     "execution_count": 283,
     "metadata": {},
     "output_type": "execute_result"
    }
   ],
   "source": [
    "# check for missing values\n",
    "data.isnull().sum()"
   ]
  },
  {
   "cell_type": "code",
   "execution_count": 284,
   "id": "alternate-register",
   "metadata": {
    "execution": {
     "iopub.execute_input": "2021-06-16T15:45:21.379202Z",
     "iopub.status.busy": "2021-06-16T15:45:21.378210Z",
     "iopub.status.idle": "2021-06-16T15:45:21.382951Z",
     "shell.execute_reply": "2021-06-16T15:45:21.382306Z",
     "shell.execute_reply.started": "2021-06-16T15:42:01.058964Z"
    },
    "papermill": {
     "duration": 0.081939,
     "end_time": "2021-06-16T15:45:21.383093",
     "exception": false,
     "start_time": "2021-06-16T15:45:21.301154",
     "status": "completed"
    },
    "tags": []
   },
   "outputs": [
    {
     "data": {
      "text/plain": [
       "(119390, 32)"
      ]
     },
     "execution_count": 284,
     "metadata": {},
     "output_type": "execute_result"
    }
   ],
   "source": [
    "data.shape   #119390 rows and 32 columns"
   ]
  },
  {
   "cell_type": "code",
   "execution_count": 285,
   "id": "comprehensive-monte",
   "metadata": {
    "execution": {
     "iopub.execute_input": "2021-06-16T15:45:21.532003Z",
     "iopub.status.busy": "2021-06-16T15:45:21.526824Z",
     "iopub.status.idle": "2021-06-16T15:45:21.755847Z",
     "shell.execute_reply": "2021-06-16T15:45:21.754988Z",
     "shell.execute_reply.started": "2021-06-16T15:42:01.066434Z"
    },
    "papermill": {
     "duration": 0.304003,
     "end_time": "2021-06-16T15:45:21.756064",
     "exception": false,
     "start_time": "2021-06-16T15:45:21.452061",
     "status": "completed"
    },
    "tags": []
   },
   "outputs": [
    {
     "data": {
      "text/html": [
       "<div>\n",
       "<style scoped>\n",
       "    .dataframe tbody tr th:only-of-type {\n",
       "        vertical-align: middle;\n",
       "    }\n",
       "\n",
       "    .dataframe tbody tr th {\n",
       "        vertical-align: top;\n",
       "    }\n",
       "\n",
       "    .dataframe thead th {\n",
       "        text-align: right;\n",
       "    }\n",
       "</style>\n",
       "<table border=\"1\" class=\"dataframe\">\n",
       "  <thead>\n",
       "    <tr style=\"text-align: right;\">\n",
       "      <th></th>\n",
       "      <th>hotel</th>\n",
       "      <th>is_canceled</th>\n",
       "      <th>lead_time</th>\n",
       "      <th>arrival_date_year</th>\n",
       "      <th>arrival_date_month</th>\n",
       "      <th>arrival_date_week_number</th>\n",
       "      <th>arrival_date_day_of_month</th>\n",
       "      <th>stays_in_weekend_nights</th>\n",
       "      <th>stays_in_week_nights</th>\n",
       "      <th>adults</th>\n",
       "      <th>...</th>\n",
       "      <th>deposit_type</th>\n",
       "      <th>agent</th>\n",
       "      <th>company</th>\n",
       "      <th>days_in_waiting_list</th>\n",
       "      <th>customer_type</th>\n",
       "      <th>adr</th>\n",
       "      <th>required_car_parking_spaces</th>\n",
       "      <th>total_of_special_requests</th>\n",
       "      <th>reservation_status</th>\n",
       "      <th>reservation_status_date</th>\n",
       "    </tr>\n",
       "  </thead>\n",
       "  <tbody>\n",
       "    <tr>\n",
       "      <th>0</th>\n",
       "      <td>Resort Hotel</td>\n",
       "      <td>0</td>\n",
       "      <td>342</td>\n",
       "      <td>2015</td>\n",
       "      <td>July</td>\n",
       "      <td>27</td>\n",
       "      <td>1</td>\n",
       "      <td>0</td>\n",
       "      <td>0</td>\n",
       "      <td>2</td>\n",
       "      <td>...</td>\n",
       "      <td>No Deposit</td>\n",
       "      <td>0.0</td>\n",
       "      <td>0.0</td>\n",
       "      <td>0</td>\n",
       "      <td>Transient</td>\n",
       "      <td>0.00</td>\n",
       "      <td>0</td>\n",
       "      <td>0</td>\n",
       "      <td>Check-Out</td>\n",
       "      <td>2015-07-01</td>\n",
       "    </tr>\n",
       "    <tr>\n",
       "      <th>1</th>\n",
       "      <td>Resort Hotel</td>\n",
       "      <td>0</td>\n",
       "      <td>737</td>\n",
       "      <td>2015</td>\n",
       "      <td>July</td>\n",
       "      <td>27</td>\n",
       "      <td>1</td>\n",
       "      <td>0</td>\n",
       "      <td>0</td>\n",
       "      <td>2</td>\n",
       "      <td>...</td>\n",
       "      <td>No Deposit</td>\n",
       "      <td>0.0</td>\n",
       "      <td>0.0</td>\n",
       "      <td>0</td>\n",
       "      <td>Transient</td>\n",
       "      <td>0.00</td>\n",
       "      <td>0</td>\n",
       "      <td>0</td>\n",
       "      <td>Check-Out</td>\n",
       "      <td>2015-07-01</td>\n",
       "    </tr>\n",
       "    <tr>\n",
       "      <th>2</th>\n",
       "      <td>Resort Hotel</td>\n",
       "      <td>0</td>\n",
       "      <td>7</td>\n",
       "      <td>2015</td>\n",
       "      <td>July</td>\n",
       "      <td>27</td>\n",
       "      <td>1</td>\n",
       "      <td>0</td>\n",
       "      <td>1</td>\n",
       "      <td>1</td>\n",
       "      <td>...</td>\n",
       "      <td>No Deposit</td>\n",
       "      <td>0.0</td>\n",
       "      <td>0.0</td>\n",
       "      <td>0</td>\n",
       "      <td>Transient</td>\n",
       "      <td>75.00</td>\n",
       "      <td>0</td>\n",
       "      <td>0</td>\n",
       "      <td>Check-Out</td>\n",
       "      <td>2015-07-02</td>\n",
       "    </tr>\n",
       "    <tr>\n",
       "      <th>3</th>\n",
       "      <td>Resort Hotel</td>\n",
       "      <td>0</td>\n",
       "      <td>13</td>\n",
       "      <td>2015</td>\n",
       "      <td>July</td>\n",
       "      <td>27</td>\n",
       "      <td>1</td>\n",
       "      <td>0</td>\n",
       "      <td>1</td>\n",
       "      <td>1</td>\n",
       "      <td>...</td>\n",
       "      <td>No Deposit</td>\n",
       "      <td>304.0</td>\n",
       "      <td>0.0</td>\n",
       "      <td>0</td>\n",
       "      <td>Transient</td>\n",
       "      <td>75.00</td>\n",
       "      <td>0</td>\n",
       "      <td>0</td>\n",
       "      <td>Check-Out</td>\n",
       "      <td>2015-07-02</td>\n",
       "    </tr>\n",
       "    <tr>\n",
       "      <th>4</th>\n",
       "      <td>Resort Hotel</td>\n",
       "      <td>0</td>\n",
       "      <td>14</td>\n",
       "      <td>2015</td>\n",
       "      <td>July</td>\n",
       "      <td>27</td>\n",
       "      <td>1</td>\n",
       "      <td>0</td>\n",
       "      <td>2</td>\n",
       "      <td>2</td>\n",
       "      <td>...</td>\n",
       "      <td>No Deposit</td>\n",
       "      <td>240.0</td>\n",
       "      <td>0.0</td>\n",
       "      <td>0</td>\n",
       "      <td>Transient</td>\n",
       "      <td>98.00</td>\n",
       "      <td>0</td>\n",
       "      <td>1</td>\n",
       "      <td>Check-Out</td>\n",
       "      <td>2015-07-03</td>\n",
       "    </tr>\n",
       "    <tr>\n",
       "      <th>...</th>\n",
       "      <td>...</td>\n",
       "      <td>...</td>\n",
       "      <td>...</td>\n",
       "      <td>...</td>\n",
       "      <td>...</td>\n",
       "      <td>...</td>\n",
       "      <td>...</td>\n",
       "      <td>...</td>\n",
       "      <td>...</td>\n",
       "      <td>...</td>\n",
       "      <td>...</td>\n",
       "      <td>...</td>\n",
       "      <td>...</td>\n",
       "      <td>...</td>\n",
       "      <td>...</td>\n",
       "      <td>...</td>\n",
       "      <td>...</td>\n",
       "      <td>...</td>\n",
       "      <td>...</td>\n",
       "      <td>...</td>\n",
       "      <td>...</td>\n",
       "    </tr>\n",
       "    <tr>\n",
       "      <th>119385</th>\n",
       "      <td>City Hotel</td>\n",
       "      <td>0</td>\n",
       "      <td>23</td>\n",
       "      <td>2017</td>\n",
       "      <td>August</td>\n",
       "      <td>35</td>\n",
       "      <td>30</td>\n",
       "      <td>2</td>\n",
       "      <td>5</td>\n",
       "      <td>2</td>\n",
       "      <td>...</td>\n",
       "      <td>No Deposit</td>\n",
       "      <td>394.0</td>\n",
       "      <td>0.0</td>\n",
       "      <td>0</td>\n",
       "      <td>Transient</td>\n",
       "      <td>96.14</td>\n",
       "      <td>0</td>\n",
       "      <td>0</td>\n",
       "      <td>Check-Out</td>\n",
       "      <td>2017-09-06</td>\n",
       "    </tr>\n",
       "    <tr>\n",
       "      <th>119386</th>\n",
       "      <td>City Hotel</td>\n",
       "      <td>0</td>\n",
       "      <td>102</td>\n",
       "      <td>2017</td>\n",
       "      <td>August</td>\n",
       "      <td>35</td>\n",
       "      <td>31</td>\n",
       "      <td>2</td>\n",
       "      <td>5</td>\n",
       "      <td>3</td>\n",
       "      <td>...</td>\n",
       "      <td>No Deposit</td>\n",
       "      <td>9.0</td>\n",
       "      <td>0.0</td>\n",
       "      <td>0</td>\n",
       "      <td>Transient</td>\n",
       "      <td>225.43</td>\n",
       "      <td>0</td>\n",
       "      <td>2</td>\n",
       "      <td>Check-Out</td>\n",
       "      <td>2017-09-07</td>\n",
       "    </tr>\n",
       "    <tr>\n",
       "      <th>119387</th>\n",
       "      <td>City Hotel</td>\n",
       "      <td>0</td>\n",
       "      <td>34</td>\n",
       "      <td>2017</td>\n",
       "      <td>August</td>\n",
       "      <td>35</td>\n",
       "      <td>31</td>\n",
       "      <td>2</td>\n",
       "      <td>5</td>\n",
       "      <td>2</td>\n",
       "      <td>...</td>\n",
       "      <td>No Deposit</td>\n",
       "      <td>9.0</td>\n",
       "      <td>0.0</td>\n",
       "      <td>0</td>\n",
       "      <td>Transient</td>\n",
       "      <td>157.71</td>\n",
       "      <td>0</td>\n",
       "      <td>4</td>\n",
       "      <td>Check-Out</td>\n",
       "      <td>2017-09-07</td>\n",
       "    </tr>\n",
       "    <tr>\n",
       "      <th>119388</th>\n",
       "      <td>City Hotel</td>\n",
       "      <td>0</td>\n",
       "      <td>109</td>\n",
       "      <td>2017</td>\n",
       "      <td>August</td>\n",
       "      <td>35</td>\n",
       "      <td>31</td>\n",
       "      <td>2</td>\n",
       "      <td>5</td>\n",
       "      <td>2</td>\n",
       "      <td>...</td>\n",
       "      <td>No Deposit</td>\n",
       "      <td>89.0</td>\n",
       "      <td>0.0</td>\n",
       "      <td>0</td>\n",
       "      <td>Transient</td>\n",
       "      <td>104.40</td>\n",
       "      <td>0</td>\n",
       "      <td>0</td>\n",
       "      <td>Check-Out</td>\n",
       "      <td>2017-09-07</td>\n",
       "    </tr>\n",
       "    <tr>\n",
       "      <th>119389</th>\n",
       "      <td>City Hotel</td>\n",
       "      <td>0</td>\n",
       "      <td>205</td>\n",
       "      <td>2017</td>\n",
       "      <td>August</td>\n",
       "      <td>35</td>\n",
       "      <td>29</td>\n",
       "      <td>2</td>\n",
       "      <td>7</td>\n",
       "      <td>2</td>\n",
       "      <td>...</td>\n",
       "      <td>No Deposit</td>\n",
       "      <td>9.0</td>\n",
       "      <td>0.0</td>\n",
       "      <td>0</td>\n",
       "      <td>Transient</td>\n",
       "      <td>151.20</td>\n",
       "      <td>0</td>\n",
       "      <td>2</td>\n",
       "      <td>Check-Out</td>\n",
       "      <td>2017-09-07</td>\n",
       "    </tr>\n",
       "  </tbody>\n",
       "</table>\n",
       "<p>119210 rows × 32 columns</p>\n",
       "</div>"
      ],
      "text/plain": [
       "               hotel  is_canceled  lead_time  arrival_date_year  \\\n",
       "0       Resort Hotel            0        342               2015   \n",
       "1       Resort Hotel            0        737               2015   \n",
       "2       Resort Hotel            0          7               2015   \n",
       "3       Resort Hotel            0         13               2015   \n",
       "4       Resort Hotel            0         14               2015   \n",
       "...              ...          ...        ...                ...   \n",
       "119385    City Hotel            0         23               2017   \n",
       "119386    City Hotel            0        102               2017   \n",
       "119387    City Hotel            0         34               2017   \n",
       "119388    City Hotel            0        109               2017   \n",
       "119389    City Hotel            0        205               2017   \n",
       "\n",
       "       arrival_date_month  arrival_date_week_number  \\\n",
       "0                    July                        27   \n",
       "1                    July                        27   \n",
       "2                    July                        27   \n",
       "3                    July                        27   \n",
       "4                    July                        27   \n",
       "...                   ...                       ...   \n",
       "119385             August                        35   \n",
       "119386             August                        35   \n",
       "119387             August                        35   \n",
       "119388             August                        35   \n",
       "119389             August                        35   \n",
       "\n",
       "        arrival_date_day_of_month  stays_in_weekend_nights  \\\n",
       "0                               1                        0   \n",
       "1                               1                        0   \n",
       "2                               1                        0   \n",
       "3                               1                        0   \n",
       "4                               1                        0   \n",
       "...                           ...                      ...   \n",
       "119385                         30                        2   \n",
       "119386                         31                        2   \n",
       "119387                         31                        2   \n",
       "119388                         31                        2   \n",
       "119389                         29                        2   \n",
       "\n",
       "        stays_in_week_nights  adults  ...  deposit_type  agent company  \\\n",
       "0                          0       2  ...    No Deposit    0.0     0.0   \n",
       "1                          0       2  ...    No Deposit    0.0     0.0   \n",
       "2                          1       1  ...    No Deposit    0.0     0.0   \n",
       "3                          1       1  ...    No Deposit  304.0     0.0   \n",
       "4                          2       2  ...    No Deposit  240.0     0.0   \n",
       "...                      ...     ...  ...           ...    ...     ...   \n",
       "119385                     5       2  ...    No Deposit  394.0     0.0   \n",
       "119386                     5       3  ...    No Deposit    9.0     0.0   \n",
       "119387                     5       2  ...    No Deposit    9.0     0.0   \n",
       "119388                     5       2  ...    No Deposit   89.0     0.0   \n",
       "119389                     7       2  ...    No Deposit    9.0     0.0   \n",
       "\n",
       "       days_in_waiting_list customer_type     adr  \\\n",
       "0                         0     Transient    0.00   \n",
       "1                         0     Transient    0.00   \n",
       "2                         0     Transient   75.00   \n",
       "3                         0     Transient   75.00   \n",
       "4                         0     Transient   98.00   \n",
       "...                     ...           ...     ...   \n",
       "119385                    0     Transient   96.14   \n",
       "119386                    0     Transient  225.43   \n",
       "119387                    0     Transient  157.71   \n",
       "119388                    0     Transient  104.40   \n",
       "119389                    0     Transient  151.20   \n",
       "\n",
       "        required_car_parking_spaces  total_of_special_requests  \\\n",
       "0                                 0                          0   \n",
       "1                                 0                          0   \n",
       "2                                 0                          0   \n",
       "3                                 0                          0   \n",
       "4                                 0                          1   \n",
       "...                             ...                        ...   \n",
       "119385                            0                          0   \n",
       "119386                            0                          2   \n",
       "119387                            0                          4   \n",
       "119388                            0                          0   \n",
       "119389                            0                          2   \n",
       "\n",
       "        reservation_status reservation_status_date  \n",
       "0                Check-Out              2015-07-01  \n",
       "1                Check-Out              2015-07-01  \n",
       "2                Check-Out              2015-07-02  \n",
       "3                Check-Out              2015-07-02  \n",
       "4                Check-Out              2015-07-03  \n",
       "...                    ...                     ...  \n",
       "119385           Check-Out              2017-09-06  \n",
       "119386           Check-Out              2017-09-07  \n",
       "119387           Check-Out              2017-09-07  \n",
       "119388           Check-Out              2017-09-07  \n",
       "119389           Check-Out              2017-09-07  \n",
       "\n",
       "[119210 rows x 32 columns]"
      ]
     },
     "execution_count": 285,
     "metadata": {},
     "output_type": "execute_result"
    }
   ],
   "source": [
    "# filling null values with zero\n",
    "\n",
    "data.fillna(0, inplace = True)\n",
    "\n",
    "# adults, babies and children cant be zero at same time, so dropping the rows having all these zero at same time\n",
    "\n",
    "filter = (data.children == 0) & (data.adults == 0) & (data.babies == 0)\n",
    "data[filter]\n",
    "\n",
    "data = data[~filter]\n",
    "data"
   ]
  },
  {
   "cell_type": "code",
   "execution_count": 286,
   "id": "logical-assignment",
   "metadata": {
    "execution": {
     "iopub.execute_input": "2021-06-16T15:45:21.904046Z",
     "iopub.status.busy": "2021-06-16T15:45:21.903254Z",
     "iopub.status.idle": "2021-06-16T15:45:21.908938Z",
     "shell.execute_reply": "2021-06-16T15:45:21.908328Z",
     "shell.execute_reply.started": "2021-06-16T15:42:01.297258Z"
    },
    "papermill": {
     "duration": 0.080918,
     "end_time": "2021-06-16T15:45:21.909109",
     "exception": false,
     "start_time": "2021-06-16T15:45:21.828191",
     "status": "completed"
    },
    "tags": []
   },
   "outputs": [
    {
     "data": {
      "text/plain": [
       "0    75011\n",
       "1    44199\n",
       "Name: is_canceled, dtype: int64"
      ]
     },
     "execution_count": 286,
     "metadata": {},
     "output_type": "execute_result"
    }
   ],
   "source": [
    "data['is_canceled'].value_counts()"
   ]
  },
  {
   "cell_type": "markdown",
   "id": "paperback-struggle",
   "metadata": {
    "papermill": {
     "duration": 0.068967,
     "end_time": "2021-06-16T15:45:22.064330",
     "exception": false,
     "start_time": "2021-06-16T15:45:21.995363",
     "status": "completed"
    },
    "tags": []
   },
   "source": []
  },
  {
   "cell_type": "code",
   "execution_count": 287,
   "id": "intimate-channel",
   "metadata": {
    "execution": {
     "iopub.execute_input": "2021-06-16T15:45:22.210091Z",
     "iopub.status.busy": "2021-06-16T15:45:22.209435Z",
     "iopub.status.idle": "2021-06-16T15:45:22.213709Z",
     "shell.execute_reply": "2021-06-16T15:45:22.213034Z",
     "shell.execute_reply.started": "2021-06-16T15:42:01.305082Z"
    },
    "papermill": {
     "duration": 0.07845,
     "end_time": "2021-06-16T15:45:22.213853",
     "exception": false,
     "start_time": "2021-06-16T15:45:22.135403",
     "status": "completed"
    },
    "tags": []
   },
   "outputs": [
    {
     "data": {
      "text/plain": [
       "hotel                              object\n",
       "is_canceled                         int64\n",
       "lead_time                           int64\n",
       "arrival_date_year                   int64\n",
       "arrival_date_month                 object\n",
       "arrival_date_week_number            int64\n",
       "arrival_date_day_of_month           int64\n",
       "stays_in_weekend_nights             int64\n",
       "stays_in_week_nights                int64\n",
       "adults                              int64\n",
       "children                          float64\n",
       "babies                              int64\n",
       "meal                               object\n",
       "country                            object\n",
       "market_segment                     object\n",
       "distribution_channel               object\n",
       "is_repeated_guest                   int64\n",
       "previous_cancellations              int64\n",
       "previous_bookings_not_canceled      int64\n",
       "reserved_room_type                 object\n",
       "assigned_room_type                 object\n",
       "booking_changes                     int64\n",
       "deposit_type                       object\n",
       "agent                             float64\n",
       "company                           float64\n",
       "days_in_waiting_list                int64\n",
       "customer_type                      object\n",
       "adr                               float64\n",
       "required_car_parking_spaces         int64\n",
       "total_of_special_requests           int64\n",
       "reservation_status                 object\n",
       "reservation_status_date            object\n",
       "dtype: object"
      ]
     },
     "execution_count": 287,
     "metadata": {},
     "output_type": "execute_result"
    }
   ],
   "source": [
    "data.dtypes"
   ]
  },
  {
   "cell_type": "markdown",
   "id": "diagnostic-kitty",
   "metadata": {
    "papermill": {
     "duration": 0.068485,
     "end_time": "2021-06-16T15:45:22.351291",
     "exception": false,
     "start_time": "2021-06-16T15:45:22.282806",
     "status": "completed"
    },
    "tags": []
   },
   "source": [
    "**Checking Null Values**\n",
    "\n"
   ]
  },
  {
   "cell_type": "code",
   "execution_count": 288,
   "id": "logical-economics",
   "metadata": {
    "execution": {
     "iopub.execute_input": "2021-06-16T15:45:37.981044Z",
     "iopub.status.busy": "2021-06-16T15:45:37.980357Z",
     "iopub.status.idle": "2021-06-16T15:45:37.995951Z",
     "shell.execute_reply": "2021-06-16T15:45:37.995280Z",
     "shell.execute_reply.started": "2021-06-16T15:42:11.379988Z"
    },
    "papermill": {
     "duration": 0.121252,
     "end_time": "2021-06-16T15:45:37.996093",
     "exception": false,
     "start_time": "2021-06-16T15:45:37.874841",
     "status": "completed"
    },
    "tags": []
   },
   "outputs": [],
   "source": [
    "data=data.drop(['company','country'],axis=1)\n"
   ]
  },
  {
   "cell_type": "code",
   "execution_count": 289,
   "id": "sorted-imaging",
   "metadata": {
    "execution": {
     "iopub.execute_input": "2021-06-16T15:45:38.321273Z",
     "iopub.status.busy": "2021-06-16T15:45:38.320586Z",
     "iopub.status.idle": "2021-06-16T15:45:38.363657Z",
     "shell.execute_reply": "2021-06-16T15:45:38.363073Z",
     "shell.execute_reply.started": "2021-06-16T15:42:11.402367Z"
    },
    "papermill": {
     "duration": 0.2651,
     "end_time": "2021-06-16T15:45:38.363807",
     "exception": false,
     "start_time": "2021-06-16T15:45:38.098707",
     "status": "completed"
    },
    "tags": []
   },
   "outputs": [],
   "source": [
    "data=data.dropna()\n"
   ]
  },
  {
   "cell_type": "code",
   "execution_count": 290,
   "id": "tutorial-influence",
   "metadata": {
    "execution": {
     "iopub.execute_input": "2021-06-16T15:45:38.693822Z",
     "iopub.status.busy": "2021-06-16T15:45:38.693106Z",
     "iopub.status.idle": "2021-06-16T15:45:38.706313Z",
     "shell.execute_reply": "2021-06-16T15:45:38.705660Z",
     "shell.execute_reply.started": "2021-06-16T15:42:11.555174Z"
    },
    "papermill": {
     "duration": 0.243021,
     "end_time": "2021-06-16T15:45:38.706448",
     "exception": false,
     "start_time": "2021-06-16T15:45:38.463427",
     "status": "completed"
    },
    "tags": []
   },
   "outputs": [
    {
     "data": {
      "text/plain": [
       "hotel                             0\n",
       "is_canceled                       0\n",
       "lead_time                         0\n",
       "arrival_date_year                 0\n",
       "arrival_date_month                0\n",
       "arrival_date_week_number          0\n",
       "arrival_date_day_of_month         0\n",
       "stays_in_weekend_nights           0\n",
       "stays_in_week_nights              0\n",
       "adults                            0\n",
       "children                          0\n",
       "babies                            0\n",
       "meal                              0\n",
       "market_segment                    0\n",
       "distribution_channel              0\n",
       "is_repeated_guest                 0\n",
       "previous_cancellations            0\n",
       "previous_bookings_not_canceled    0\n",
       "reserved_room_type                0\n",
       "assigned_room_type                0\n",
       "booking_changes                   0\n",
       "deposit_type                      0\n",
       "agent                             0\n",
       "days_in_waiting_list              0\n",
       "customer_type                     0\n",
       "adr                               0\n",
       "required_car_parking_spaces       0\n",
       "total_of_special_requests         0\n",
       "reservation_status                0\n",
       "reservation_status_date           0\n",
       "dtype: int64"
      ]
     },
     "execution_count": 290,
     "metadata": {},
     "output_type": "execute_result"
    }
   ],
   "source": [
    "data.isnull().sum()\n"
   ]
  },
  {
   "cell_type": "code",
   "execution_count": 291,
   "id": "fewer-variation",
   "metadata": {
    "execution": {
     "iopub.execute_input": "2021-06-16T15:45:38.917931Z",
     "iopub.status.busy": "2021-06-16T15:45:38.916806Z",
     "iopub.status.idle": "2021-06-16T15:45:38.924703Z",
     "shell.execute_reply": "2021-06-16T15:45:38.924121Z",
     "shell.execute_reply.started": "2021-06-16T15:42:11.684463Z"
    },
    "papermill": {
     "duration": 0.119262,
     "end_time": "2021-06-16T15:45:38.924846",
     "exception": false,
     "start_time": "2021-06-16T15:45:38.805584",
     "status": "completed"
    },
    "tags": []
   },
   "outputs": [
    {
     "data": {
      "text/plain": [
       "Check-Out    75011\n",
       "Canceled     42993\n",
       "No-Show       1206\n",
       "Name: reservation_status, dtype: int64"
      ]
     },
     "execution_count": 291,
     "metadata": {},
     "output_type": "execute_result"
    }
   ],
   "source": [
    "data['reservation_status'].value_counts()\n",
    "\n",
    "\n",
    "\n"
   ]
  },
  {
   "cell_type": "code",
   "execution_count": 292,
   "id": "emotional-basket",
   "metadata": {
    "execution": {
     "iopub.execute_input": "2021-06-16T15:45:39.175817Z",
     "iopub.status.busy": "2021-06-16T15:45:39.175138Z",
     "iopub.status.idle": "2021-06-16T15:45:39.183164Z",
     "shell.execute_reply": "2021-06-16T15:45:39.182603Z",
     "shell.execute_reply.started": "2021-06-16T15:42:11.700828Z"
    },
    "papermill": {
     "duration": 0.144969,
     "end_time": "2021-06-16T15:45:39.183335",
     "exception": false,
     "start_time": "2021-06-16T15:45:39.038366",
     "status": "completed"
    },
    "tags": []
   },
   "outputs": [
    {
     "data": {
      "text/plain": [
       "array(['No Deposit', 'Refundable', 'Non Refund'], dtype=object)"
      ]
     },
     "execution_count": 292,
     "metadata": {},
     "output_type": "execute_result"
    }
   ],
   "source": [
    "data['deposit_type'].unique()"
   ]
  },
  {
   "cell_type": "code",
   "execution_count": 293,
   "id": "broad-thanks",
   "metadata": {
    "execution": {
     "iopub.execute_input": "2021-06-16T15:45:39.399380Z",
     "iopub.status.busy": "2021-06-16T15:45:39.398651Z",
     "iopub.status.idle": "2021-06-16T15:45:39.404706Z",
     "shell.execute_reply": "2021-06-16T15:45:39.404061Z",
     "shell.execute_reply.started": "2021-06-16T15:42:11.721435Z"
    },
    "papermill": {
     "duration": 0.119942,
     "end_time": "2021-06-16T15:45:39.404845",
     "exception": false,
     "start_time": "2021-06-16T15:45:39.284903",
     "status": "completed"
    },
    "tags": []
   },
   "outputs": [
    {
     "data": {
      "text/plain": [
       "array(['July', 'August', 'September', 'October', 'November', 'December',\n",
       "       'January', 'February', 'March', 'April', 'May', 'June'],\n",
       "      dtype=object)"
      ]
     },
     "execution_count": 293,
     "metadata": {},
     "output_type": "execute_result"
    }
   ],
   "source": [
    "data['arrival_date_month'].unique()\n"
   ]
  },
  {
   "cell_type": "code",
   "execution_count": 294,
   "id": "approved-adolescent",
   "metadata": {
    "execution": {
     "iopub.execute_input": "2021-06-16T15:45:39.615931Z",
     "iopub.status.busy": "2021-06-16T15:45:39.615305Z",
     "iopub.status.idle": "2021-06-16T15:45:39.617983Z",
     "shell.execute_reply": "2021-06-16T15:45:39.617467Z",
     "shell.execute_reply.started": "2021-06-16T15:42:11.743575Z"
    },
    "papermill": {
     "duration": 0.109508,
     "end_time": "2021-06-16T15:45:39.618127",
     "exception": false,
     "start_time": "2021-06-16T15:45:39.508619",
     "status": "completed"
    },
    "tags": []
   },
   "outputs": [],
   "source": [
    "#lets find the categorialfeatures\n",
    "list_1=list(data.columns)\n"
   ]
  },
  {
   "cell_type": "code",
   "execution_count": 295,
   "id": "continued-confusion",
   "metadata": {
    "execution": {
     "iopub.execute_input": "2021-06-16T15:45:39.827532Z",
     "iopub.status.busy": "2021-06-16T15:45:39.826780Z",
     "iopub.status.idle": "2021-06-16T15:45:39.829476Z",
     "shell.execute_reply": "2021-06-16T15:45:39.829906Z",
     "shell.execute_reply.started": "2021-06-16T15:42:11.751783Z"
    },
    "papermill": {
     "duration": 0.109272,
     "end_time": "2021-06-16T15:45:39.830077",
     "exception": false,
     "start_time": "2021-06-16T15:45:39.720805",
     "status": "completed"
    },
    "tags": []
   },
   "outputs": [],
   "source": [
    "list_cate=[]\n",
    "for i in list_1:\n",
    "    if data[i].dtype=='object':\n",
    "        list_cate.append(i)\n"
   ]
  },
  {
   "cell_type": "code",
   "execution_count": 296,
   "id": "functional-louis",
   "metadata": {
    "execution": {
     "iopub.execute_input": "2021-06-16T15:45:40.037999Z",
     "iopub.status.busy": "2021-06-16T15:45:40.036788Z",
     "iopub.status.idle": "2021-06-16T15:45:40.177718Z",
     "shell.execute_reply": "2021-06-16T15:45:40.178732Z",
     "shell.execute_reply.started": "2021-06-16T15:42:11.765882Z"
    },
    "papermill": {
     "duration": 0.247341,
     "end_time": "2021-06-16T15:45:40.178920",
     "exception": false,
     "start_time": "2021-06-16T15:45:39.931579",
     "status": "completed"
    },
    "tags": []
   },
   "outputs": [
    {
     "data": {
      "text/plain": [
       "['hotel',\n",
       " 'arrival_date_month',\n",
       " 'meal',\n",
       " 'market_segment',\n",
       " 'distribution_channel',\n",
       " 'reserved_room_type',\n",
       " 'assigned_room_type',\n",
       " 'deposit_type',\n",
       " 'customer_type',\n",
       " 'reservation_status',\n",
       " 'reservation_status_date']"
      ]
     },
     "execution_count": 296,
     "metadata": {},
     "output_type": "execute_result"
    }
   ],
   "source": [
    "from sklearn.preprocessing import LabelEncoder\n",
    "le=LabelEncoder()\n",
    "list_cate"
   ]
  },
  {
   "cell_type": "code",
   "execution_count": 297,
   "id": "serial-joshua",
   "metadata": {
    "execution": {
     "iopub.execute_input": "2021-06-16T15:45:40.387270Z",
     "iopub.status.busy": "2021-06-16T15:45:40.386583Z",
     "iopub.status.idle": "2021-06-16T15:45:40.877795Z",
     "shell.execute_reply": "2021-06-16T15:45:40.878419Z",
     "shell.execute_reply.started": "2021-06-16T15:42:11.923398Z"
    },
    "papermill": {
     "duration": 0.597588,
     "end_time": "2021-06-16T15:45:40.878599",
     "exception": false,
     "start_time": "2021-06-16T15:45:40.281011",
     "status": "completed"
    },
    "tags": []
   },
   "outputs": [],
   "source": [
    "for i in list_cate:\n",
    "    data[i]=le.fit_transform(data[i])\n"
   ]
  },
  {
   "cell_type": "code",
   "execution_count": 298,
   "id": "military-hours",
   "metadata": {
    "execution": {
     "iopub.execute_input": "2021-06-16T15:45:41.372094Z",
     "iopub.status.busy": "2021-06-16T15:45:41.371456Z",
     "iopub.status.idle": "2021-06-16T15:45:41.395056Z",
     "shell.execute_reply": "2021-06-16T15:45:41.395652Z",
     "shell.execute_reply.started": "2021-06-16T15:42:12.500031Z"
    },
    "papermill": {
     "duration": 0.12936,
     "end_time": "2021-06-16T15:45:41.395831",
     "exception": false,
     "start_time": "2021-06-16T15:45:41.266471",
     "status": "completed"
    },
    "tags": []
   },
   "outputs": [],
   "source": [
    "\n",
    "y=data['is_canceled']\n",
    "x=data.drop(['reservation_status', 'children', 'reservation_status_date','is_canceled'],axis=1)\n",
    "\n",
    "\n",
    "\n",
    "\n"
   ]
  },
  {
   "cell_type": "markdown",
   "id": "revised-provider",
   "metadata": {
    "papermill": {
     "duration": 0.101334,
     "end_time": "2021-06-16T15:45:41.600300",
     "exception": false,
     "start_time": "2021-06-16T15:45:41.498966",
     "status": "completed"
    },
    "tags": []
   },
   "source": [
    "# TRAINING AND TESTING DATA"
   ]
  },
  {
   "cell_type": "code",
   "execution_count": 299,
   "id": "empty-landscape",
   "metadata": {
    "execution": {
     "iopub.execute_input": "2021-06-16T15:45:41.814894Z",
     "iopub.status.busy": "2021-06-16T15:45:41.814125Z",
     "iopub.status.idle": "2021-06-16T15:45:42.048504Z",
     "shell.execute_reply": "2021-06-16T15:45:42.048951Z",
     "shell.execute_reply.started": "2021-06-16T15:42:12.525544Z"
    },
    "papermill": {
     "duration": 0.342768,
     "end_time": "2021-06-16T15:45:42.049136",
     "exception": false,
     "start_time": "2021-06-16T15:45:41.706368",
     "status": "completed"
    },
    "tags": []
   },
   "outputs": [
    {
     "name": "stdout",
     "output_type": "stream",
     "text": [
      "length of oversampled data is  120184\n",
      "Number of no subscription in oversampled data 60092\n",
      "Number of subscription 60092\n",
      "Proportion of no subscription data in oversampled data is  0.5\n",
      "Proportion of subscription data in oversampled data is  0.5\n"
     ]
    }
   ],
   "source": [
    "from sklearn.model_selection import train_test_split\n",
    "from imblearn.over_sampling import SMOTE\n",
    "os = SMOTE(random_state=0)\n",
    "X_train, X_test, y_train, y_test = train_test_split(x, y, test_size=0.2, random_state=0)\n",
    "columns = X_train.columns\n",
    "os_data_X,os_data_y=os.fit_resample(X_train, y_train)\n",
    "os_data_X = pd.DataFrame(data=os_data_X,columns=columns )\n",
    "os_data_X.columns\n",
    "os_data_y= pd.DataFrame(data=os_data_y,columns=['is_canceled'])\n",
    "x=os_data_X\n",
    "y=os_data_y\n",
    "print(\"length of oversampled data is \",len(os_data_X))\n",
    "print(\"Number of no subscription in oversampled data\",len(os_data_y[os_data_y['is_canceled']==0]))\n",
    "print(\"Number of subscription\",len(os_data_y[os_data_y['is_canceled']==1]))\n",
    "print(\"Proportion of no subscription data in oversampled data is \",len(os_data_y[os_data_y['is_canceled']==0])/len(os_data_X))\n",
    "print(\"Proportion of subscription data in oversampled data is \",len(os_data_y[os_data_y['is_canceled']==1])/len(os_data_X))\n",
    "\n"
   ]
  },
  {
   "cell_type": "code",
   "execution_count": 300,
   "id": "b5f0a90c",
   "metadata": {},
   "outputs": [],
   "source": [
    "x_train, x_test, Y_train, Y_test = train_test_split(x, y, test_size=0.2, random_state=0)\n"
   ]
  },
  {
   "cell_type": "code",
   "execution_count": 301,
   "id": "aea13006",
   "metadata": {},
   "outputs": [],
   "source": [
    "# We can use the functions to apply the models and roc curves to save space.\n",
    "def model(algorithm, X_train, X_test, y_train, y_test):\n",
    "    alg = algorithm\n",
    "    alg_model = alg.fit(X_train, y_train)\n",
    "    global y_prob, y_pred\n",
    "    y_prob = alg.predict_proba(X_test)[:,1]\n",
    "    y_pred = alg_model.predict(X_test)\n",
    "\n",
    "    print('Accuracy Score: {}\\n\\nConfusion Matrix:\\n {}'\n",
    "      .format(accuracy_score(y_test,y_pred), confusion_matrix(y_test,y_pred)))\n",
    "    \n",
    "\n",
    "def ROC(y_test, y_prob):\n",
    "    \n",
    "    false_positive_rate, true_positive_rate, threshold = roc_curve(y_test, y_prob)\n",
    "    roc_auc = auc(false_positive_rate, true_positive_rate)\n",
    "    \n",
    "    plt.figure(figsize = (10,10))\n",
    "    plt.title('Receiver Operating Characteristic')\n",
    "    plt.plot(false_positive_rate, true_positive_rate, color = 'red', label = 'AUC = %0.2f' % roc_auc)\n",
    "    plt.legend(loc = 'lower right')\n",
    "    plt.plot([0, 1], [0, 1], linestyle = '--')\n",
    "    plt.axis('tight')\n",
    "    plt.ylabel('True Positive Rate')\n",
    "    plt.xlabel('False Positive Rate')"
   ]
  },
  {
   "cell_type": "markdown",
   "id": "federal-newcastle",
   "metadata": {
    "papermill": {
     "duration": 0.103939,
     "end_time": "2021-06-16T15:45:42.485689",
     "exception": false,
     "start_time": "2021-06-16T15:45:42.381750",
     "status": "completed"
    },
    "tags": []
   },
   "source": [
    "# MODELS\n",
    "\n",
    "# 1. Logistic Regression"
   ]
  },
  {
   "cell_type": "code",
   "execution_count": 302,
   "id": "e5d06c75",
   "metadata": {},
   "outputs": [
    {
     "name": "stdout",
     "output_type": "stream",
     "text": [
      "Model: Logistic Regression\n",
      "\n",
      "Accuracy Score: 0.770698766881973\n",
      "\n",
      "Confusion Matrix:\n",
      " [[11967  2952]\n",
      " [ 2515  6408]]\n",
      "Classification Report is:\n",
      "               precision    recall  f1-score   support\n",
      "\n",
      "           0       0.83      0.80      0.81     14919\n",
      "           1       0.68      0.72      0.70      8923\n",
      "\n",
      "    accuracy                           0.77     23842\n",
      "   macro avg       0.76      0.76      0.76     23842\n",
      "weighted avg       0.77      0.77      0.77     23842\n",
      "\n",
      "Confusion Matrix:\n",
      " [[11967  2952]\n",
      " [ 2515  6408]]\n",
      "Training Score:\n",
      " 67.64045130799441\n",
      "Accuracy Score of Logistic Regression is : 0.770698766881973\n"
     ]
    }
   ],
   "source": [
    "print('Model: Logistic Regression\\n')\n",
    "model(LogisticRegression(solver = \"liblinear\"), os_data_X, X_test, os_data_y, y_test)\n",
    "acc_reg = accuracy_score(y_test, y_pred)\n",
    "print(\"Classification Report is:\\n\",classification_report(y_test,y_pred))\n",
    "print(\"Confusion Matrix:\\n\",confusion_matrix(y_test,y_pred))\n",
    "print(\"Training Score:\\n\",reg.score(os_data_X,os_data_y)*100)\n",
    "print(f\"Accuracy Score of Logistic Regression is : {acc_reg}\")\n"
   ]
  },
  {
   "cell_type": "code",
   "execution_count": 303,
   "id": "32c071fd",
   "metadata": {},
   "outputs": [
    {
     "data": {
      "image/png": "[encoded data removed]",
      "text/plain": [
       "<Figure size 720x720 with 1 Axes>"
      ]
     },
     "metadata": {
      "needs_background": "light"
     },
     "output_type": "display_data"
    }
   ],
   "source": [
    "ROC(y_test, y_prob)\n"
   ]
  },
  {
   "cell_type": "markdown",
   "id": "naked-powder",
   "metadata": {
    "papermill": {
     "duration": 0.103467,
     "end_time": "2021-06-16T15:45:45.965805",
     "exception": false,
     "start_time": "2021-06-16T15:45:45.862338",
     "status": "completed"
    },
    "tags": []
   },
   "source": [
    "# 2. KNeighborsClassifier"
   ]
  },
  {
   "cell_type": "markdown",
   "id": "external-springfield",
   "metadata": {
    "papermill": {
     "duration": 0.104034,
     "end_time": "2021-06-16T15:45:46.174396",
     "exception": false,
     "start_time": "2021-06-16T15:45:46.070362",
     "status": "completed"
    },
    "tags": []
   },
   "source": [
    "**By default, the KNeighborsClassifier looks for the 5 nearest neighbors. We must explicitly tell the classifier to use Euclidean distance for determining the proximity between neighboring points.**"
   ]
  },
  {
   "cell_type": "code",
   "execution_count": 304,
   "id": "c7b6cbde",
   "metadata": {},
   "outputs": [
    {
     "name": "stdout",
     "output_type": "stream",
     "text": [
      "Model: KNeighboursClassifier \n",
      "\n",
      "Accuracy Score: 0.7546346782988005\n",
      "\n",
      "Confusion Matrix:\n",
      " [[11246  3673]\n",
      " [ 2177  6746]]\n",
      "Classification Report is:\n",
      "               precision    recall  f1-score   support\n",
      "\n",
      "           0       0.84      0.75      0.79     14919\n",
      "           1       0.65      0.76      0.70      8923\n",
      "\n",
      "    accuracy                           0.75     23842\n",
      "   macro avg       0.74      0.75      0.75     23842\n",
      "weighted avg       0.77      0.75      0.76     23842\n",
      "\n",
      "Confusion Matrix:\n",
      " [[11246  3673]\n",
      " [ 2177  6746]]\n",
      "Training Score:\n",
      " 67.64045130799441\n",
      "Accuracy Score of Logistic Regression is : 0.7546346782988005\n"
     ]
    }
   ],
   "source": [
    "print('Model: KNeighboursClassifier \\n')\n",
    "model(KNeighborsClassifier(), os_data_X, X_test, os_data_y, y_test)\n",
    "acc_reg = accuracy_score(y_test, y_pred)\n",
    "print(\"Classification Report is:\\n\",classification_report(y_test,y_pred))\n",
    "print(\"Confusion Matrix:\\n\",confusion_matrix(y_test,y_pred))\n",
    "print(\"Training Score:\\n\",reg.score(os_data_X,os_data_y)*100)\n",
    "print(f\"Accuracy Score of Logistic Regression is : {acc_reg}\")"
   ]
  },
  {
   "cell_type": "code",
   "execution_count": 271,
   "id": "dd5e04de",
   "metadata": {},
   "outputs": [
    {
     "data": {
      "image/png": "[encoded data removed]",
      "text/plain": [
       "<Figure size 720x720 with 1 Axes>"
      ]
     },
     "metadata": {
      "needs_background": "light"
     },
     "output_type": "display_data"
    }
   ],
   "source": [
    "ROC(y_test, y_prob)\n"
   ]
  },
  {
   "cell_type": "markdown",
   "id": "banned-opposition",
   "metadata": {
    "papermill": {
     "duration": 0.105745,
     "end_time": "2021-06-16T15:46:31.792746",
     "exception": false,
     "start_time": "2021-06-16T15:46:31.687001",
     "status": "completed"
    },
    "tags": []
   },
   "source": [
    "# 3. DECISION TREE CLASSIFIER"
   ]
  },
  {
   "cell_type": "markdown",
   "id": "dependent-aluminum",
   "metadata": {
    "papermill": {
     "duration": 0.103667,
     "end_time": "2021-06-16T15:46:32.003073",
     "exception": false,
     "start_time": "2021-06-16T15:46:31.899406",
     "status": "completed"
    },
    "tags": []
   },
   "source": [
    "**Decision trees use multiple algorithms to decide to split a node into two or more sub-nodes. The creation of sub-nodes increases the homogeneity of resultant sub-nodes. ... The decision tree splits the nodes on all available variables and then selects the split which results in most homogeneous sub-nodes.**\n"
   ]
  },
  {
   "cell_type": "code",
   "execution_count": 305,
   "id": "induced-sudan",
   "metadata": {
    "execution": {
     "iopub.execute_input": "2021-06-16T15:46:32.220852Z",
     "iopub.status.busy": "2021-06-16T15:46:32.219707Z",
     "iopub.status.idle": "2021-06-16T15:46:32.631357Z",
     "shell.execute_reply": "2021-06-16T15:46:32.631836Z",
     "shell.execute_reply.started": "2021-06-16T15:42:59.547450Z"
    },
    "papermill": {
     "duration": 0.526196,
     "end_time": "2021-06-16T15:46:32.632034",
     "exception": false,
     "start_time": "2021-06-16T15:46:32.105838",
     "status": "completed"
    },
    "tags": []
   },
   "outputs": [
    {
     "name": "stdout",
     "output_type": "stream",
     "text": [
      "Model: Decision Tree\n",
      "\n",
      "Accuracy Score: 0.8200654307524536\n",
      "\n",
      "Confusion Matrix:\n",
      " [[13216  1703]\n",
      " [ 2587  6336]]\n",
      "Classification Report is:\n",
      "               precision    recall  f1-score   support\n",
      "\n",
      "           0       0.84      0.89      0.86     14919\n",
      "           1       0.79      0.71      0.75      8923\n",
      "\n",
      "    accuracy                           0.82     23842\n",
      "   macro avg       0.81      0.80      0.80     23842\n",
      "weighted avg       0.82      0.82      0.82     23842\n",
      "\n",
      "Confusion Matrix:\n",
      " [[13216  1703]\n",
      " [ 2587  6336]]\n",
      "Training Score:\n",
      " 67.64045130799441\n",
      "Accuracy Score of Logistic Regression is : 0.8200654307524536\n"
     ]
    }
   ],
   "source": [
    "from sklearn.tree import DecisionTreeClassifier\n",
    "print('Model: Decision Tree\\n')\n",
    "model(DecisionTreeClassifier(max_depth = 12), os_data_X, X_test, os_data_y, y_test)\n",
    "acc_reg = accuracy_score(y_test, y_pred)\n",
    "print(\"Classification Report is:\\n\",classification_report(y_test,y_pred))\n",
    "print(\"Confusion Matrix:\\n\",confusion_matrix(y_test,y_pred))\n",
    "print(\"Training Score:\\n\",reg.score(os_data_X,os_data_y)*100)\n",
    "print(f\"Accuracy Score of Logistic Regression is : {acc_reg}\")\n"
   ]
  },
  {
   "cell_type": "code",
   "execution_count": 306,
   "id": "689fdb5f",
   "metadata": {},
   "outputs": [
    {
     "data": {
      "image/png": "[encoded data removed]",
      "text/plain": [
       "<Figure size 720x720 with 1 Axes>"
      ]
     },
     "metadata": {
      "needs_background": "light"
     },
     "output_type": "display_data"
    }
   ],
   "source": [
    "ROC(y_test, y_prob)\n"
   ]
  },
  {
   "cell_type": "markdown",
   "id": "minor-geometry",
   "metadata": {
    "papermill": {
     "duration": 0.105849,
     "end_time": "2021-06-16T15:46:33.143394",
     "exception": false,
     "start_time": "2021-06-16T15:46:33.037545",
     "status": "completed"
    },
    "tags": []
   },
   "source": [
    " # 4.Random Forest Classifier\n"
   ]
  },
  {
   "cell_type": "markdown",
   "id": "improved-metropolitan",
   "metadata": {
    "papermill": {
     "duration": 0.103836,
     "end_time": "2021-06-16T15:46:33.354290",
     "exception": false,
     "start_time": "2021-06-16T15:46:33.250454",
     "status": "completed"
    },
    "tags": []
   },
   "source": [
    "**A random forest classifier. A random forest is a meta estimator that fits a number of decision tree classifiers on various sub-samples of the dataset and uses averaging to improve the predictive accuracy and control over-fitting.**"
   ]
  },
  {
   "cell_type": "code",
   "execution_count": 307,
   "id": "honey-bedroom",
   "metadata": {
    "execution": {
     "iopub.execute_input": "2021-06-16T15:46:33.567957Z",
     "iopub.status.busy": "2021-06-16T15:46:33.567112Z",
     "iopub.status.idle": "2021-06-16T15:46:48.186721Z",
     "shell.execute_reply": "2021-06-16T15:46:48.186032Z",
     "shell.execute_reply.started": "2021-06-16T15:43:00.015167Z"
    },
    "papermill": {
     "duration": 14.728328,
     "end_time": "2021-06-16T15:46:48.186865",
     "exception": false,
     "start_time": "2021-06-16T15:46:33.458537",
     "status": "completed"
    },
    "tags": []
   },
   "outputs": [
    {
     "name": "stdout",
     "output_type": "stream",
     "text": [
      "Model: Random Forest\n",
      "\n",
      "Accuracy Score: 0.8717808908648603\n",
      "\n",
      "Confusion Matrix:\n",
      " [[13568  1351]\n",
      " [ 1706  7217]]\n",
      "Classification Report is:\n",
      "               precision    recall  f1-score   support\n",
      "\n",
      "           0       0.89      0.91      0.90     14919\n",
      "           1       0.84      0.81      0.83      8923\n",
      "\n",
      "    accuracy                           0.87     23842\n",
      "   macro avg       0.87      0.86      0.86     23842\n",
      "weighted avg       0.87      0.87      0.87     23842\n",
      "\n",
      "Confusion Matrix:\n",
      " [[13568  1351]\n",
      " [ 1706  7217]]\n",
      "Training Score:\n",
      " 67.64045130799441\n",
      "Accuracy Score of Logistic Regression is : 0.8717808908648603\n"
     ]
    }
   ],
   "source": [
    "from sklearn.ensemble import RandomForestClassifier\n",
    "from sklearn.model_selection import GridSearchCV\n",
    "print('Model: Random Forest\\n')\n",
    "model(RandomForestClassifier(), os_data_X, X_test, os_data_y, y_test)\n",
    "acc_reg = accuracy_score(y_test, y_pred)\n",
    "print(\"Classification Report is:\\n\",classification_report(y_test,y_pred))\n",
    "print(\"Confusion Matrix:\\n\",confusion_matrix(y_test,y_pred))\n",
    "print(\"Training Score:\\n\",reg.score(os_data_X,os_data_y)*100)\n",
    "print(f\"Accuracy Score of Logistic Regression is : {acc_reg}\")"
   ]
  },
  {
   "cell_type": "code",
   "execution_count": 309,
   "id": "919694f4",
   "metadata": {},
   "outputs": [
    {
     "name": "stdout",
     "output_type": "stream",
     "text": [
      "Model: Random Forest\n",
      "\n",
      "Accuracy Score: 0.8848025959978366\n",
      "\n",
      "Confusion Matrix:\n",
      " [[10952  1125]\n",
      " [ 1644 10316]]\n",
      "Classification Report is:\n",
      "               precision    recall  f1-score   support\n",
      "\n",
      "           0       0.87      0.91      0.89     12077\n",
      "           1       0.90      0.86      0.88     11960\n",
      "\n",
      "    accuracy                           0.88     24037\n",
      "   macro avg       0.89      0.88      0.88     24037\n",
      "weighted avg       0.89      0.88      0.88     24037\n",
      "\n",
      "Confusion Matrix:\n",
      " [[10952  1125]\n",
      " [ 1644 10316]]\n",
      "Training Score:\n",
      " 67.71402123831217\n",
      "Accuracy Score of Logistic Regression is : 0.8848025959978366\n"
     ]
    }
   ],
   "source": [
    "from sklearn.ensemble import RandomForestClassifier\n",
    "from sklearn.model_selection import GridSearchCV\n",
    "print('Model: Random Forest\\n')\n",
    "model(RandomForestClassifier(), x_train, x_test, Y_train, Y_test)\n",
    "acc_reg = accuracy_score(Y_test, y_pred)\n",
    "print(\"Classification Report is:\\n\",classification_report(Y_test,y_pred))\n",
    "print(\"Confusion Matrix:\\n\",confusion_matrix(Y_test,y_pred))\n",
    "print(\"Training Score:\\n\",reg.score(x_train,Y_train)*100)\n",
    "print(f\"Accuracy Score of Logistic Regression is : {acc_reg}\")"
   ]
  },
  {
   "cell_type": "code",
   "execution_count": 275,
   "id": "cfa8e9d2",
   "metadata": {},
   "outputs": [
    {
     "data": {
      "image/png": "[encoded data removed]",
      "text/plain": [
       "<Figure size 720x720 with 1 Axes>"
      ]
     },
     "metadata": {
      "needs_background": "light"
     },
     "output_type": "display_data"
    }
   ],
   "source": [
    "ROC(y_test, y_prob)\n"
   ]
  },
  {
   "cell_type": "code",
   "execution_count": 276,
   "id": "055c23e1",
   "metadata": {},
   "outputs": [
    {
     "data": {
      "text/plain": [
       "Text(0.5, 0, 'Feature Importances (%)')"
      ]
     },
     "execution_count": 276,
     "metadata": {},
     "output_type": "execute_result"
    },
    {
     "data": {
      "image/png": "[encoded data removed]",
      "text/plain": [
       "<Figure size 432x288 with 1 Axes>"
      ]
     },
     "metadata": {
      "needs_background": "light"
     },
     "output_type": "display_data"
    }
   ],
   "source": [
    "randomf = RandomForestClassifier()\n",
    "rf_model1 = randomf.fit(os_data_X, os_data_y)\n",
    "\n",
    "pd.DataFrame(data = rf_model1.feature_importances_*100,\n",
    "                   columns = [\"Importances\"],\n",
    "                   index = X_train.columns).sort_values(\"Importances\", ascending = False)[:15].plot(kind = \"barh\", color = \"r\")\n",
    "\n",
    "plt.xlabel(\"Feature Importances (%)\")"
   ]
  },
  {
   "cell_type": "markdown",
   "id": "rough-vermont",
   "metadata": {
    "papermill": {
     "duration": 0.103012,
     "end_time": "2021-06-16T15:46:48.393273",
     "exception": false,
     "start_time": "2021-06-16T15:46:48.290261",
     "status": "completed"
    },
    "tags": []
   },
   "source": []
  },
  {
   "cell_type": "markdown",
   "id": "devoted-gabriel",
   "metadata": {
    "papermill": {
     "duration": 0.11303,
     "end_time": "2021-06-16T15:46:49.547804",
     "exception": false,
     "start_time": "2021-06-16T15:46:49.434774",
     "status": "completed"
    },
    "tags": []
   },
   "source": [
    "# 5. Naive Bayes Classifier"
   ]
  },
  {
   "cell_type": "markdown",
   "id": "increasing-prayer",
   "metadata": {
    "papermill": {
     "duration": 0.105736,
     "end_time": "2021-06-16T15:46:49.758765",
     "exception": false,
     "start_time": "2021-06-16T15:46:49.653029",
     "status": "completed"
    },
    "tags": []
   },
   "source": [
    "**An AdaBoost classifier is a meta-estimator that begins by fitting a classifier on the original dataset and then fits additional copies of the classifier on the same dataset but where the weights of incorrectly classified instances are adjusted such that subsequent classifiers focus more on difficult cases.**\n"
   ]
  },
  {
   "cell_type": "code",
   "execution_count": 277,
   "id": "coordinated-heart",
   "metadata": {
    "execution": {
     "iopub.execute_input": "2021-06-16T15:46:49.979468Z",
     "iopub.status.busy": "2021-06-16T15:46:49.978752Z",
     "iopub.status.idle": "2021-06-16T15:46:54.387795Z",
     "shell.execute_reply": "2021-06-16T15:46:54.388273Z",
     "shell.execute_reply.started": "2021-06-16T15:43:14.666241Z"
    },
    "papermill": {
     "duration": 4.524395,
     "end_time": "2021-06-16T15:46:54.388451",
     "exception": false,
     "start_time": "2021-06-16T15:46:49.864056",
     "status": "completed"
    },
    "tags": []
   },
   "outputs": [
    {
     "name": "stdout",
     "output_type": "stream",
     "text": [
      "Model: Gaussian Naive Bayes\n",
      "\n",
      "Accuracy Score: 0.5507507759416156\n",
      "\n",
      "Confusion Matrix:\n",
      " [[5066 9853]\n",
      " [ 858 8065]]\n",
      "Classification Report is:\n",
      "               precision    recall  f1-score   support\n",
      "\n",
      "           0       0.86      0.34      0.49     14919\n",
      "           1       0.45      0.90      0.60      8923\n",
      "\n",
      "    accuracy                           0.55     23842\n",
      "   macro avg       0.65      0.62      0.54     23842\n",
      "weighted avg       0.70      0.55      0.53     23842\n",
      "\n",
      "Confusion Matrix:\n",
      " [[5066 9853]\n",
      " [ 858 8065]]\n",
      "Training Score:\n",
      " 67.64045130799441\n",
      "Accuracy Score of Logistic Regression is : 0.5507507759416156\n"
     ]
    }
   ],
   "source": [
    "from sklearn.naive_bayes import GaussianNB\n",
    "\n",
    "print('Model: Gaussian Naive Bayes\\n')\n",
    "model(GaussianNB(), os_data_X, X_test, os_data_y, y_test)\n",
    "acc_reg = accuracy_score(y_test, y_pred)\n",
    "print(\"Classification Report is:\\n\",classification_report(y_test,y_pred))\n",
    "print(\"Confusion Matrix:\\n\",confusion_matrix(y_test,y_pred))\n",
    "print(\"Training Score:\\n\",reg.score(os_data_X,os_data_y)*100)\n",
    "print(f\"Accuracy Score of Logistic Regression is : {acc_reg}\")\n"
   ]
  },
  {
   "cell_type": "code",
   "execution_count": 279,
   "id": "balanced-sphere",
   "metadata": {
    "execution": {
     "iopub.execute_input": "2021-06-16T15:46:54.608438Z",
     "iopub.status.busy": "2021-06-16T15:46:54.607088Z",
     "iopub.status.idle": "2021-06-16T15:46:54.906831Z",
     "shell.execute_reply": "2021-06-16T15:46:54.906305Z",
     "shell.execute_reply.started": "2021-06-16T15:43:18.919463Z"
    },
    "papermill": {
     "duration": 0.413491,
     "end_time": "2021-06-16T15:46:54.906969",
     "exception": false,
     "start_time": "2021-06-16T15:46:54.493478",
     "status": "completed"
    },
    "scrolled": true,
    "tags": []
   },
   "outputs": [
    {
     "data": {
      "image/png": "[encoded data removed]",
      "text/plain": [
       "<Figure size 720x720 with 1 Axes>"
      ]
     },
     "metadata": {
      "needs_background": "light"
     },
     "output_type": "display_data"
    }
   ],
   "source": [
    "ROC(y_test, y_prob)\n"
   ]
  },
  {
   "cell_type": "markdown",
   "id": "missing-litigation",
   "metadata": {
    "papermill": {
     "duration": 0.109808,
     "end_time": "2021-06-16T15:47:37.501006",
     "exception": false,
     "start_time": "2021-06-16T15:47:37.391198",
     "status": "completed"
    },
    "tags": []
   },
   "source": [
    "# CONCLUSION : \n",
    "\n",
    "**So we get a accuracy score of 87 % using the Random Forest Classifier which is highest among all models** "
   ]
  },
  {
   "cell_type": "markdown",
   "id": "lyric-cathedral",
   "metadata": {
    "papermill": {
     "duration": 0.110112,
     "end_time": "2021-06-16T15:47:37.721391",
     "exception": false,
     "start_time": "2021-06-16T15:47:37.611279",
     "status": "completed"
    },
    "tags": []
   },
   "source": []
  }
 ],
 "metadata": {
  "kernelspec": {
   "display_name": "Python 3 (ipykernel)",
   "language": "python",
   "name": "python3"
  },
  "language_info": {
   "codemirror_mode": {
    "name": "ipython",
    "version": 3
   },
   "file_extension": ".py",
   "mimetype": "text/x-python",
   "name": "python",
   "nbconvert_exporter": "python",
   "pygments_lexer": "ipython3",
   "version": "3.9.12"
  },
  "papermill": {
   "default_parameters": {},
   "duration": 150.09144,
   "end_time": "2021-06-16T15:47:38.743055",
   "environment_variables": {},
   "exception": null,
   "input_path": "__notebook__.ipynb",
   "output_path": "__notebook__.ipynb",
   "parameters": {},
   "start_time": "2021-06-16T15:45:08.651615",
   "version": "2.3.3"
  }
 },
 "nbformat": 4,
 "nbformat_minor": 5
}
